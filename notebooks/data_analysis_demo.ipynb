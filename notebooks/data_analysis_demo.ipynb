{
 "cells": [
  {
   "cell_type": "markdown",
   "id": "9a174669",
   "metadata": {},
   "source": [
    "# Data Analysis and Prediction Notebook\n",
    "\n",
    "This notebook demonstrates the capabilities of our data analysis and prediction project.\n",
    "\n",
    "## Table of Contents\n",
    "1. [Data Loading and Generation](#data-loading)\n",
    "2. [Exploratory Data Analysis](#eda)\n",
    "3. [Data Visualization](#visualization)\n",
    "4. [Machine Learning Predictions](#ml)\n",
    "5. [Results and Insights](#results)"
   ]
  },
  {
   "cell_type": "markdown",
   "id": "816dc462",
   "metadata": {},
   "source": [
    "## 1. Data Loading and Generation {#data-loading}"
   ]
  },
  {
   "cell_type": "code",
   "execution_count": null,
   "id": "6dcdbcbd",
   "metadata": {},
   "outputs": [],
   "source": [
    "# Import required libraries\n",
    "import pandas as pd\n",
    "import numpy as np\n",
    "import matplotlib.pyplot as plt\n",
    "import seaborn as sns\n",
    "import warnings\n",
    "warnings.filterwarnings('ignore')\n",
    "\n",
    "# Import our custom modules\n",
    "import sys\n",
    "sys.path.append('../src')\n",
    "\n",
    "from analysis.data_analyzer import DataAnalyzer\n",
    "from models.predictor import Predictor\n",
    "from visualization.plotter import Plotter\n",
    "from utils.data_generator import generate_sample_data\n",
    "\n",
    "print(\"✅ All libraries imported successfully!\")"
   ]
  },
  {
   "cell_type": "code",
   "execution_count": null,
   "id": "0665a4b1",
   "metadata": {},
   "outputs": [],
   "source": [
    "# Generate sample data\n",
    "data = generate_sample_data('../data/sample_data.csv', n_samples=1000)\n",
    "print(f\"Dataset shape: {data.shape}\")\n",
    "data.head()"
   ]
  },
  {
   "cell_type": "markdown",
   "id": "cfe02e30",
   "metadata": {},
   "source": [
    "## 2. Exploratory Data Analysis {#eda}"
   ]
  },
  {
   "cell_type": "code",
   "execution_count": null,
   "id": "a9fbddb1",
   "metadata": {},
   "outputs": [],
   "source": [
    "# Initialize data analyzer\n",
    "analyzer = DataAnalyzer(data)\n",
    "\n",
    "# Get basic statistics\n",
    "stats = analyzer.basic_stats()"
   ]
  },
  {
   "cell_type": "code",
   "execution_count": null,
   "id": "f21d3904",
   "metadata": {},
   "outputs": [],
   "source": [
    "# Correlation analysis\n",
    "corr_matrix = analyzer.correlation_analysis()"
   ]
  },
  {
   "cell_type": "code",
   "execution_count": null,
   "id": "dc46b138",
   "metadata": {},
   "outputs": [],
   "source": [
    "# Data quality report\n",
    "quality_report = analyzer.data_quality_report()"
   ]
  },
  {
   "cell_type": "markdown",
   "id": "c12988bd",
   "metadata": {},
   "source": [
    "## 3. Data Visualization {#visualization}"
   ]
  },
  {
   "cell_type": "code",
   "execution_count": null,
   "id": "6336f6a7",
   "metadata": {},
   "outputs": [],
   "source": [
    "# Initialize plotter\n",
    "plotter = Plotter()\n",
    "\n",
    "# Plot income distribution\n",
    "plotter.plot_distribution(data, 'income')"
   ]
  },
  {
   "cell_type": "code",
   "execution_count": null,
   "id": "a7314674",
   "metadata": {},
   "outputs": [],
   "source": [
    "# Correlation heatmap\n",
    "plotter.plot_correlation_heatmap(data)"
   ]
  },
  {
   "cell_type": "code",
   "execution_count": null,
   "id": "447442fe",
   "metadata": {},
   "outputs": [],
   "source": [
    "# Scatter plot: age vs income\n",
    "plotter.plot_scatter(data, 'age', 'income', color_col='department')"
   ]
  },
  {
   "cell_type": "code",
   "execution_count": null,
   "id": "59d6c256",
   "metadata": {},
   "outputs": [],
   "source": [
    "# Multiple distributions\n",
    "numeric_cols = ['age', 'income', 'education_years', 'satisfaction_score']\n",
    "plotter.plot_multiple_distributions(data, numeric_cols)"
   ]
  },
  {
   "cell_type": "markdown",
   "id": "f59e54f3",
   "metadata": {},
   "source": [
    "## 4. Machine Learning Predictions {#ml}"
   ]
  },
  {
   "cell_type": "code",
   "execution_count": null,
   "id": "61ffb5a9",
   "metadata": {},
   "outputs": [],
   "source": [
    "# Initialize predictor\n",
    "predictor = Predictor()\n",
    "\n",
    "# Define features and target for regression\n",
    "feature_columns = ['age', 'education_years', 'experience_years']\n",
    "target_column = 'income'\n",
    "\n",
    "# Train the model\n",
    "performance = predictor.train_model(data, feature_columns, target_column, model_type='random_forest')"
   ]
  },
  {
   "cell_type": "code",
   "execution_count": null,
   "id": "fdd8a116",
   "metadata": {},
   "outputs": [],
   "source": [
    "# Feature importance\n",
    "importance_df = predictor.get_feature_importance()\n",
    "if importance_df is not None:\n",
    "    plotter.plot_feature_importance(importance_df)"
   ]
  },
  {
   "cell_type": "code",
   "execution_count": null,
   "id": "ddb2cad8",
   "metadata": {},
   "outputs": [],
   "source": [
    "# Plot predictions\n",
    "plotter.plot_predictions(predictor.y_test, predictor.y_pred)"
   ]
  },
  {
   "cell_type": "code",
   "execution_count": null,
   "id": "3160acc9",
   "metadata": {},
   "outputs": [],
   "source": [
    "# Cross-validation\n",
    "cv_scores = predictor.cross_validate(cv_folds=5)"
   ]
  },
  {
   "cell_type": "markdown",
   "id": "7c66768e",
   "metadata": {},
   "source": [
    "### Classification Example"
   ]
  },
  {
   "cell_type": "code",
   "execution_count": null,
   "id": "d881a45b",
   "metadata": {},
   "outputs": [],
   "source": [
    "# Classification example - predict performance rating\n",
    "predictor_cls = Predictor()\n",
    "\n",
    "# Define features and target for classification\n",
    "feature_columns_cls = ['age', 'education_years', 'experience_years', 'satisfaction_score']\n",
    "target_column_cls = 'performance_rating'\n",
    "\n",
    "# Train classification model\n",
    "performance_cls = predictor_cls.train_model(\n",
    "    data.dropna(), \n",
    "    feature_columns_cls, \n",
    "    target_column_cls, \n",
    "    model_type='random_forest'\n",
    ")"
   ]
  },
  {
   "cell_type": "markdown",
   "id": "f9587ab3",
   "metadata": {},
   "source": [
    "## 5. Results and Insights {#results}"
   ]
  },
  {
   "cell_type": "code",
   "execution_count": null,
   "id": "43dd0ba8",
   "metadata": {},
   "outputs": [],
   "source": [
    "# Summary of results\n",
    "print(\"🎉 Analysis Summary\")\n",
    "print(\"=\" * 50)\n",
    "print(f\"📊 Dataset: {data.shape[0]} rows, {data.shape[1]} columns\")\n",
    "print(f\"🔍 Missing values: {data.isnull().sum().sum()}\")\n",
    "print(f\"📈 Regression R² Score: {performance['r2_score']:.4f}\")\n",
    "print(f\"🎯 Classification Accuracy: {performance_cls['accuracy']:.4f}\")\n",
    "print(\"\\n✅ All visualizations saved to outputs folder\")"
   ]
  },
  {
   "cell_type": "markdown",
   "id": "d8ea62ea",
   "metadata": {},
   "source": [
    "## Interactive Visualizations"
   ]
  },
  {
   "cell_type": "code",
   "execution_count": null,
   "id": "e9b1662e",
   "metadata": {},
   "outputs": [],
   "source": [
    "# Create interactive plots\n",
    "fig = plotter.create_interactive_plot(\n",
    "    data, \n",
    "    'age', \n",
    "    'income', \n",
    "    color_col='department',\n",
    "    plot_type='scatter'\n",
    ")"
   ]
  }
 ],
 "metadata": {
  "language_info": {
   "name": "python"
  }
 },
 "nbformat": 4,
 "nbformat_minor": 5
}
